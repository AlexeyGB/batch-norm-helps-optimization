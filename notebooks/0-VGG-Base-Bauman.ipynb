{
 "cells": [
  {
   "cell_type": "markdown",
   "metadata": {},
   "source": [
    "# Base VGG training and testing"
   ]
  },
  {
   "cell_type": "code",
   "execution_count": 5,
   "metadata": {},
   "outputs": [],
   "source": [
    "import matplotlib.pyplot as plt\n",
    "%matplotlib inline\n",
    "\n",
    "import warnings\n",
    "warnings.filterwarnings('ignore')"
   ]
  },
  {
   "cell_type": "markdown",
   "metadata": {},
   "source": [
    "## Constants (parameters) initialization"
   ]
  },
  {
   "cell_type": "code",
   "execution_count": 6,
   "metadata": {},
   "outputs": [],
   "source": [
    "device_id = 0\n",
    "num_workers = 4\n",
    "\n",
    "batch_size = 128\n",
    "default_learning_rate = 0.1"
   ]
  },
  {
   "cell_type": "markdown",
   "metadata": {},
   "source": [
    "## CIFAR-10 data load and preproc"
   ]
  },
  {
   "cell_type": "code",
   "execution_count": 7,
   "metadata": {},
   "outputs": [],
   "source": [
    "from torch.utils.data import DataLoader, Dataset\n",
    "import torch.nn.functional as F\n",
    "import PIL.Image as Image\n",
    "from torch import nn\n",
    "import numpy as np\n",
    "import torch.optim as optim\n",
    "import pandas as pd\n",
    "import torch\n",
    "from torchvision import transforms, utils\n",
    "import torchvision.models as models\n",
    "import torchvision.datasets as datasets\n",
    "import os\n",
    "import random\n",
    "from tqdm import tqdm as tqdm\n",
    "from IPython import display"
   ]
  },
  {
   "cell_type": "markdown",
   "metadata": {},
   "source": [
    "Make sure you are using the right device."
   ]
  },
  {
   "cell_type": "code",
   "execution_count": 11,
   "metadata": {},
   "outputs": [
    {
     "name": "stdout",
     "output_type": "stream",
     "text": [
      "cuda:0\n",
      "GeForce GTX 1080 Ti\n"
     ]
    }
   ],
   "source": [
    "device_id = device_id\n",
    "os.environ[\"CUDA_DEVICE_ORDER\"]=\"PCI_BUS_ID\"  \n",
    "os.environ[\"CUDA_VISIBLE_DEVICES\"]=str(device_id)\n",
    "\n",
    "device = torch.device(\"cuda:{}\".format(device_id) if torch.cuda.is_available() else \"cpu\")\n",
    "print(device)\n",
    "print(torch.cuda.get_device_name(device_id))"
   ]
  },
  {
   "cell_type": "code",
   "execution_count": 12,
   "metadata": {},
   "outputs": [],
   "source": [
    "class PartialDataset(Dataset):\n",
    "    def __init__(self, dataset, n_items=10):\n",
    "        self.dataset = dataset\n",
    "        self.n_items = n_items\n",
    "        \n",
    "    def __getitem__(self):\n",
    "        return self.dataset.__getitem__()\n",
    "    \n",
    "    def __len__(self):\n",
    "        return min(self.n_items, len(self.dataset))"
   ]
  },
  {
   "cell_type": "code",
   "execution_count": 35,
   "metadata": {},
   "outputs": [
    {
     "name": "stdout",
     "output_type": "stream",
     "text": [
      "Files already downloaded and verified\n",
      "Files already downloaded and verified\n"
     ]
    }
   ],
   "source": [
    "normalize = transforms.Normalize(mean=[0.5, 0.5, 0.5],\n",
    "                                 std=[0.5, 0.5, 0.5])\n",
    "train_transform = transforms.Compose(\n",
    "    [#transforms.RandomHorizontalFlip(),\n",
    "    #transforms.RandomCrop(32, 4),\n",
    "    transforms.ToTensor(),\n",
    "    normalize\n",
    "    ])\n",
    "val_transform = transforms.Compose(\n",
    "    [transforms.ToTensor(),\n",
    "    normalize\n",
    "    ])\n",
    "\n",
    "dataset_train = datasets.CIFAR10(root='../data/', train=True, download=True, transform=train_transform)\n",
    "train_loader = DataLoader(dataset_train, batch_size=batch_size, shuffle=True, num_workers=num_workers)\n",
    "\n",
    "dataset_val = datasets.CIFAR10(root='../data/', train=False, download=True, transform=val_transform)\n",
    "val_loader = DataLoader(dataset_val, batch_size=batch_size, shuffle=True, num_workers=num_workers)\n",
    "\n",
    "\n",
    "n_items = 10\n",
    "dataset_train_part = PartialDataset(dataset_train, n_items)\n",
    "train_loader_part = DataLoader(dataset_train, batch_size=batch_size, shuffle=True, num_workers=num_workers)\n",
    "\n",
    "classes = ('plane', 'car', 'bird', 'cat',\n",
    "           'deer', 'dog', 'frog', 'horse', 'ship', 'truck')"
   ]
  },
  {
   "cell_type": "markdown",
   "metadata": {},
   "source": [
    "Make sure that dataloader works as expected by observing one sample from it."
   ]
  },
  {
   "cell_type": "code",
   "execution_count": 23,
   "metadata": {},
   "outputs": [
    {
     "name": "stdout",
     "output_type": "stream",
     "text": [
      "tensor([[[0.9725, 0.9569, 0.9529,  ..., 0.9294, 0.9294, 0.9294],\n",
      "         [0.9686, 0.9569, 0.9529,  ..., 0.9216, 0.9216, 0.9216],\n",
      "         [0.9686, 0.9529, 0.9529,  ..., 0.9176, 0.9176, 0.9216],\n",
      "         ...,\n",
      "         [0.5373, 0.5137, 0.5255,  ..., 0.4000, 0.4627, 0.4824],\n",
      "         [0.5373, 0.5098, 0.5216,  ..., 0.5373, 0.5490, 0.5255],\n",
      "         [0.4471, 0.4431, 0.4549,  ..., 0.4392, 0.4706, 0.4863]],\n",
      "\n",
      "        [[0.9961, 0.9804, 0.9765,  ..., 0.9490, 0.9490, 0.9490],\n",
      "         [0.9922, 0.9804, 0.9765,  ..., 0.9412, 0.9412, 0.9412],\n",
      "         [0.9922, 0.9765, 0.9725,  ..., 0.9373, 0.9373, 0.9412],\n",
      "         ...,\n",
      "         [0.6157, 0.5922, 0.6039,  ..., 0.3765, 0.4706, 0.5255],\n",
      "         [0.6353, 0.6078, 0.6196,  ..., 0.5255, 0.5529, 0.5490],\n",
      "         [0.5922, 0.5922, 0.6039,  ..., 0.4745, 0.5098, 0.5255]],\n",
      "\n",
      "        [[0.9882, 0.9725, 0.9686,  ..., 0.9216, 0.9216, 0.9216],\n",
      "         [0.9843, 0.9725, 0.9686,  ..., 0.9137, 0.9137, 0.9137],\n",
      "         [0.9843, 0.9686, 0.9686,  ..., 0.9137, 0.9137, 0.9137],\n",
      "         ...,\n",
      "         [0.1451, 0.1294, 0.1373,  ..., 0.1922, 0.1451, 0.0941],\n",
      "         [0.1686, 0.1451, 0.1569,  ..., 0.2549, 0.1922, 0.1137],\n",
      "         [0.1412, 0.1412, 0.1529,  ..., 0.1412, 0.1294, 0.0980]]])\n",
      "tensor(7)\n",
      "torch.Size([3, 32, 32])\n",
      "tensor(0.9961)\n",
      "tensor(0.0314)\n"
     ]
    },
    {
     "data": {
      "image/png": "[encoded data removed]",
      "text/plain": [
       "<Figure size 432x288 with 1 Axes>"
      ]
     },
     "metadata": {
      "needs_background": "light"
     },
     "output_type": "display_data"
    }
   ],
   "source": [
    "for X,y in train_loader:\n",
    "    print(X[0])\n",
    "    print(y[0])\n",
    "    print(X[0].shape)\n",
    "    plt.imshow(np.array(X[0,0,:,:]))\n",
    "    print(X[0].max())\n",
    "    print(X[0].min())\n",
    "    break"
   ]
  },
  {
   "cell_type": "markdown",
   "metadata": {},
   "source": [
    "## Models implementation"
   ]
  },
  {
   "cell_type": "code",
   "execution_count": 15,
   "metadata": {},
   "outputs": [],
   "source": [
    "def get_number_of_parameters(model):\n",
    "    parameters_n = 0\n",
    "    for parameter in model.parameters():\n",
    "        parameters_n += np.prod(parameter.shape).item()\n",
    "        \n",
    "    return parameters_n"
   ]
  },
  {
   "cell_type": "code",
   "execution_count": 16,
   "metadata": {},
   "outputs": [
    {
     "name": "stdout",
     "output_type": "stream",
     "text": [
      "9750922\n"
     ]
    }
   ],
   "source": [
    "class VGG_A(nn.Module):\n",
    "    def __init__(self, inp_ch=3, num_classes=10):\n",
    "        super().__init__()\n",
    "        \n",
    "        self.stage1 = nn.Sequential(\n",
    "            nn.Conv2d(in_channels=inp_ch, out_channels=64, kernel_size=3, padding=1),\n",
    "            nn.ReLU(),\n",
    "            nn.MaxPool2d(kernel_size=2, stride=2))\n",
    "        \n",
    "        self.stage2 = nn.Sequential(\n",
    "            nn.Conv2d(in_channels=64, out_channels=128, kernel_size=3, padding=1),\n",
    "            nn.ReLU(),\n",
    "            nn.MaxPool2d(kernel_size=2, stride=2))\n",
    "        \n",
    "        self.stage3 = nn.Sequential(\n",
    "            nn.Conv2d(in_channels=128, out_channels=256, kernel_size=3, padding=1),\n",
    "            nn.Conv2d(in_channels=256, out_channels=256, kernel_size=3, padding=1),\n",
    "            nn.ReLU(),\n",
    "            nn.MaxPool2d(kernel_size=2, stride=2))\n",
    "        \n",
    "        self.stage4 = nn.Sequential(\n",
    "            nn.Conv2d(in_channels=256, out_channels=512, kernel_size=3, padding=1),\n",
    "            nn.Conv2d(in_channels=512, out_channels=512, kernel_size=3, padding=1),\n",
    "            nn.ReLU(),\n",
    "            nn.MaxPool2d(kernel_size=2, stride=2))\n",
    "        \n",
    "        self.stage5 = nn.Sequential(\n",
    "            nn.Conv2d(in_channels=512, out_channels=512, kernel_size=3, padding=1),\n",
    "            nn.Conv2d(in_channels=512, out_channels=512, kernel_size=3, padding=1),\n",
    "            nn.ReLU(),\n",
    "            nn.MaxPool2d(kernel_size=2, stride=2))\n",
    "        \n",
    "        self.classifier = nn.Sequential(\n",
    "            nn.Linear(512*1*1, 512),\n",
    "            nn.ReLU(),\n",
    "            nn.Linear(512, 512),\n",
    "            nn.ReLU(),\n",
    "            nn.Linear(512, num_classes))\n",
    "       \n",
    "\n",
    "    def forward(self, x):\n",
    "        x = self.stage1(x)\n",
    "        x = self.stage2(x)\n",
    "        x = self.stage3(x)\n",
    "        x = self.stage4(x)\n",
    "        x = self.stage5(x)\n",
    "        x = self.classifier(x.view(-1, 512*1*1))\n",
    "        return x\n",
    "    \n",
    "    \n",
    "class VGG_A_Light(nn.Module):\n",
    "    def __init__(self, inp_ch=3, num_classes=10):\n",
    "        super().__init__()\n",
    "        \n",
    "        self.stage1 = nn.Sequential(\n",
    "            nn.Conv2d(in_channels=inp_ch, out_channels=16, kernel_size=3, padding=1),\n",
    "            nn.ReLU(),\n",
    "            nn.MaxPool2d(kernel_size=2, stride=2))\n",
    "        \n",
    "        self.stage2 = nn.Sequential(\n",
    "            nn.Conv2d(in_channels=16, out_channels=32, kernel_size=3, padding=1),\n",
    "            nn.ReLU(),\n",
    "            nn.MaxPool2d(kernel_size=2, stride=2))\n",
    "        '''\n",
    "        self.stage3 = nn.Sequential(\n",
    "            nn.Conv2d(in_channels=32, out_channels=64, kernel_size=3, padding=1),\n",
    "            nn.Conv2d(in_channels=64, out_channels=64, kernel_size=3, padding=1),\n",
    "            nn.ReLU(),\n",
    "            nn.MaxPool2d(kernel_size=2, stride=2))\n",
    "        \n",
    "        self.stage4 = nn.Sequential(\n",
    "            nn.Conv2d(in_channels=64, out_channels=128, kernel_size=3, padding=1),\n",
    "            nn.Conv2d(in_channels=128, out_channels=128, kernel_size=3, padding=1),\n",
    "            nn.ReLU(),\n",
    "            nn.MaxPool2d(kernel_size=2, stride=2))\n",
    "        \n",
    "        self.stage5 = nn.Sequential(\n",
    "            nn.Conv2d(in_channels=512, out_channels=512, kernel_size=3, padding=1),\n",
    "            nn.Conv2d(in_channels=512, out_channels=512, kernel_size=3, padding=1),\n",
    "            nn.ReLU(),\n",
    "            nn.MaxPool2d(kernel_size=2, stride=2))\n",
    "        '''\n",
    "        self.classifier = nn.Sequential(\n",
    "            nn.Linear(32*8*8, 128),\n",
    "            nn.ReLU(),\n",
    "            nn.Linear(128, 128),\n",
    "            nn.ReLU(),\n",
    "            nn.Linear(128, num_classes))\n",
    "       \n",
    "\n",
    "    def forward(self, x):\n",
    "        x = self.stage1(x)\n",
    "        x = self.stage2(x)\n",
    "        #x = self.stage3(x)\n",
    "        #x = self.stage4(x)\n",
    "        #x = self.stage5(x)\n",
    "        x = self.classifier(x.view(-1, 32*8*8))\n",
    "        return x\n",
    "    \n",
    "    \n",
    "class VGG_A_Dropout(nn.Module):\n",
    "    def __init__(self, inp_ch=3, num_classes=10):\n",
    "        super().__init__()\n",
    "        \n",
    "        self.stage1 = nn.Sequential(\n",
    "            nn.Conv2d(in_channels=inp_ch, out_channels=64, kernel_size=3, padding=1),\n",
    "            nn.ReLU(True),\n",
    "            nn.MaxPool2d(kernel_size=2, stride=2))\n",
    "        \n",
    "        self.stage2 = nn.Sequential(\n",
    "            nn.Conv2d(in_channels=64, out_channels=128, kernel_size=3, padding=1),\n",
    "            nn.ReLU(True),\n",
    "            nn.MaxPool2d(kernel_size=2, stride=2))\n",
    "        \n",
    "        self.stage3 = nn.Sequential(\n",
    "            nn.Conv2d(in_channels=128, out_channels=256, kernel_size=3, padding=1),\n",
    "            nn.Conv2d(in_channels=256, out_channels=256, kernel_size=3, padding=1),\n",
    "            nn.ReLU(True),\n",
    "            nn.MaxPool2d(kernel_size=2, stride=2))\n",
    "        \n",
    "        self.stage4 = nn.Sequential(\n",
    "            nn.Conv2d(in_channels=256, out_channels=512, kernel_size=3, padding=1),\n",
    "            nn.Conv2d(in_channels=512, out_channels=512, kernel_size=3, padding=1),\n",
    "            nn.ReLU(True),\n",
    "            nn.MaxPool2d(kernel_size=2, stride=2))\n",
    "        \n",
    "        self.stage5 = nn.Sequential(\n",
    "            nn.Conv2d(in_channels=512, out_channels=512, kernel_size=3, padding=1),\n",
    "            nn.Conv2d(in_channels=512, out_channels=512, kernel_size=3, padding=1),\n",
    "            nn.ReLU(True),\n",
    "            nn.MaxPool2d(kernel_size=2, stride=2))\n",
    "        \n",
    "        self.classifier = nn.Sequential(\n",
    "            nn.Dropout(),\n",
    "            nn.Linear(512*1*1, 512),\n",
    "            nn.ReLU(True),\n",
    "            nn.Dropout(),\n",
    "            nn.Linear(512, 512),\n",
    "            nn.ReLU(True),\n",
    "            nn.Linear(512, num_classes))\n",
    "       \n",
    "\n",
    "    def forward(self, x):\n",
    "        x = self.stage1(x)\n",
    "        x = self.stage2(x)\n",
    "        x = self.stage3(x)\n",
    "        x = self.stage4(x)\n",
    "        x = self.stage5(x)\n",
    "        x = self.classifier(x.view(-1, 512*1*1))\n",
    "        return x\n",
    "\n",
    "print(get_number_of_parameters(VGG_A()))"
   ]
  },
  {
   "cell_type": "markdown",
   "metadata": {},
   "source": [
    "## Final preparations for training"
   ]
  },
  {
   "cell_type": "code",
   "execution_count": 17,
   "metadata": {},
   "outputs": [],
   "source": [
    "def train(model, \n",
    "          optimizer, \n",
    "          criterion,  \n",
    "          train_loader, \n",
    "          val_loader, \n",
    "          scheduler=None, \n",
    "          epochs_n=100, \n",
    "          best_model_path=None):\n",
    "    \n",
    "    model.to(device)\n",
    "    learning_curve = [np.nan] * epochs_n\n",
    "    train_accuracy_curve = [np.nan] * epochs_n\n",
    "    val_accuracy_curve = [np.nan] * epochs_n\n",
    "    max_val_accuracy = 0\n",
    "    max_val_accuracy_epoch = 0\n",
    "\n",
    "    batches_n = len(train_loader)\n",
    "\n",
    "    for epoch in tqdm(range(epochs_n), unit='epoch'):\n",
    "        if scheduler is not None:  \n",
    "            scheduler.step()       \n",
    "        model.train()\n",
    "\n",
    "        learning_curve[epoch] = 0\n",
    "        for data in train_loader:\n",
    "            x, y = data\n",
    "            x = x.to(device)\n",
    "            y = y.to(device)\n",
    "            optimizer.zero_grad()\n",
    "            prediction = model(x)\n",
    "            loss = criterion(prediction, y)\n",
    "            learning_curve[epoch] += loss.item()\n",
    "            loss.backward()\n",
    "            optimizer.step()\n",
    "        \n",
    "        display.clear_output(wait=True)\n",
    "        f, axes = plt.subplots(1, 2, figsize=(15, 3))\n",
    "\n",
    "        learning_curve[epoch] /= batches_n\n",
    "        axes[0].plot(learning_curve)\n",
    "\n",
    "        model.eval()\n",
    "        train_accuracy_curve[epoch] = get_accuracy(model, train_loader, device)\n",
    "        val_accuracy_curve[epoch] = get_accuracy(model, val_loader, device)\n",
    "        \n",
    "        val_accuracy = val_accuracy_curve[epoch]\n",
    "        if val_accuracy > max_val_accuracy:\n",
    "            max_val_accuracy = val_accuracy\n",
    "            max_val_accuracy_epoch = epoch\n",
    "            if best_model_path:\n",
    "                torch.save(model.state_dict(), best_model_path)\n",
    "        \n",
    "        axes[1].set_title('Train {:.4f}, val {:.4f}, max val {:.4f} at {}'.format(\n",
    "            train_accuracy_curve[epoch], val_accuracy, max_val_accuracy, max_val_accuracy_epoch))\n",
    "        axes[1].plot(train_accuracy_curve)\n",
    "        axes[1].plot(val_accuracy_curve)\n",
    "\n",
    "        plt.tight_layout()\n",
    "        plt.show()"
   ]
  },
  {
   "cell_type": "code",
   "execution_count": 18,
   "metadata": {},
   "outputs": [],
   "source": [
    "def get_accuracy(model, dataloader, device='cpu'):\n",
    "    correct = 0\n",
    "    with torch.no_grad():\n",
    "        for x, y in dataloader:\n",
    "            x = x.to(device)  ## <---\n",
    "            y = y.to(device)  ## <---\n",
    "            prediction = model(x).argmax(dim=-1, keepdim=True)\n",
    "            correct += prediction.eq(y.view_as(prediction)).sum().item()\n",
    "    return correct / len(dataloader.dataset)"
   ]
  },
  {
   "cell_type": "code",
   "execution_count": 19,
   "metadata": {},
   "outputs": [],
   "source": [
    "def set_random_seeds(seed_value=0, device='cpu'):\n",
    "    np.random.seed(seed_value)\n",
    "    torch.manual_seed(seed_value)\n",
    "    random.seed(seed_value)\n",
    "    if device != 'cpu': \n",
    "        torch.cuda.manual_seed(seed_value)\n",
    "        torch.cuda.manual_seed_all(seed_value)\n",
    "        torch.backends.cudnn.deterministic = True\n",
    "        torch.backends.cudnn.benchmark = False"
   ]
  },
  {
   "cell_type": "markdown",
   "metadata": {},
   "source": [
    "## Training"
   ]
  },
  {
   "cell_type": "code",
   "execution_count": null,
   "metadata": {},
   "outputs": [
    {
     "data": {
      "image/png": "[encoded data removed]",
      "text/plain": [
       "<Figure size 1080x216 with 2 Axes>"
      ]
     },
     "metadata": {
      "needs_background": "light"
     },
     "output_type": "display_data"
    },
    {
     "name": "stderr",
     "output_type": "stream",
     "text": [
      "\n",
      "\n",
      "\n",
      "\n",
      "\n",
      "\n",
      " 48%|████▊     | 24/50 [06:13<06:35, 15.20s/epoch]\u001b[A\u001b[A\u001b[A\u001b[A\u001b[A\u001b[A"
     ]
    }
   ],
   "source": [
    "os.path.join(os.getcwd(), 'best_vgg_1.pt') #change dump name here\n",
    "\n",
    "set_random_seeds(seed_value=1984, device=device)\n",
    "model = VGG_A()\n",
    "lr = default_learning_rate\n",
    "optimizer = torch.optim.Adam(model.parameters())\n",
    "criterion = nn.CrossEntropyLoss()\n",
    "\n",
    "train(model, \n",
    "      optimizer, \n",
    "      criterion, \n",
    "      train_loader,\n",
    "      val_loader,\n",
    "      epochs_n=50, \n",
    "      best_model_path=model_path)\n"
   ]
  }
 ],
 "metadata": {
  "kernelspec": {
   "display_name": "opt_proj_kernel",
   "language": "python",
   "name": "opt_proj_kernel"
  },
  "language_info": {
   "codemirror_mode": {
    "name": "ipython",
    "version": 3
   },
   "file_extension": ".py",
   "mimetype": "text/x-python",
   "name": "python",
   "nbconvert_exporter": "python",
   "pygments_lexer": "ipython3",
   "version": "3.6.7"
  }
 },
 "nbformat": 4,
 "nbformat_minor": 2
}
